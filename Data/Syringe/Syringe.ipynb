{
 "cells": [
  {
   "cell_type": "code",
   "execution_count": 1,
   "metadata": {},
   "outputs": [],
   "source": [
    "import numpy as np\n",
    "import pandas as pd\n",
    "import matplotlib.pyplot as plt\n",
    "\n",
    "from mpl_toolkits.axes_grid1.inset_locator import mark_inset\n",
    "from mpl_toolkits.axes_grid1.inset_locator import zoomed_inset_axes"
   ]
  },
  {
   "cell_type": "code",
   "execution_count": 2,
   "metadata": {},
   "outputs": [
    {
     "name": "stdout",
     "output_type": "stream",
     "text": [
      "\\begin{tabular}{rrrrrr}\n",
      "\\toprule\n",
      " Longitud (mm) &  Masa 1 (g) &  Masa 2 (g) &  Masa 3 (g) &  Promedio (g) &  Desviacion (g) \\\\\n",
      "\\midrule\n",
      "            28 &     0,08194 &     0,08196 &     0,08262 &        0,0822 &          0,0004 \\\\\n",
      "            29 &     0,08573 &     0,08673 &     0,08648 &        0,0863 &          0,0005 \\\\\n",
      "            30 &     0,09003 &     0,08884 &     0,08970 &        0,0895 &          0,0006 \\\\\n",
      "            31 &     0,09270 &     0,09322 &     0,09263 &        0,0928 &          0,0003 \\\\\n",
      "            32 &     0,09551 &     0,09536 &     0,09538 &        0,0954 &          0,0001 \\\\\n",
      "            33 &     0,09895 &     0,09825 &     0,09870 &        0,0986 &          0,0004 \\\\\n",
      "            34 &     0,10172 &     0,10176 &     0,10137 &        0,1016 &          0,0002 \\\\\n",
      "            35 &     0,10409 &     0,10318 &     0,10422 &        0,1038 &          0,0006 \\\\\n",
      "            36 &     0,10679 &     0,10593 &     0,10757 &        0,1068 &          0,0008 \\\\\n",
      "            37 &     0,10958 &     0,11015 &     0,10993 &        0,1099 &          0,0003 \\\\\n",
      "            38 &     0,11384 &     0,11327 &     0,11360 &        0,1136 &          0,0003 \\\\\n",
      "\\bottomrule\n",
      "\\end{tabular}\n",
      "\n"
     ]
    }
   ],
   "source": [
    "df = pd.read_csv('Table.txt', delimiter='\\t')\n",
    "txt = df.to_latex(index = False, decimal = ',')\n",
    "print(txt)"
   ]
  },
  {
   "cell_type": "code",
   "execution_count": 3,
   "metadata": {},
   "outputs": [],
   "source": [
    "def getVolume(mass, density):\n",
    "    return mass / density"
   ]
  },
  {
   "cell_type": "code",
   "execution_count": 4,
   "metadata": {},
   "outputs": [],
   "source": [
    "length, mass, std = np.genfromtxt('Means.txt', skip_header = 1).T"
   ]
  },
  {
   "cell_type": "code",
   "execution_count": 5,
   "metadata": {},
   "outputs": [],
   "source": [
    "V = 100 # uL\n",
    "rho = 0.988679\n",
    "\n",
    "volume = getVolume(mass, rho) * 1000\n",
    "v_std = volume * (std / mass)"
   ]
  },
  {
   "cell_type": "code",
   "execution_count": 6,
   "metadata": {},
   "outputs": [],
   "source": [
    "(m, b), cov = np.polyfit(length, volume, 1, cov=True)\n",
    "dm = cov[0, 0]**0.5\n",
    "db = cov[1, 1]**0.5"
   ]
  },
  {
   "cell_type": "code",
   "execution_count": 7,
   "metadata": {},
   "outputs": [
    {
     "data": {
      "text/plain": [
       "(3.048144406461917, 0.05601195913785756)"
      ]
     },
     "execution_count": 7,
     "metadata": {},
     "output_type": "execute_result"
    }
   ],
   "source": [
    "m, dm"
   ]
  },
  {
   "cell_type": "code",
   "execution_count": 8,
   "metadata": {},
   "outputs": [
    {
     "data": {
      "text/plain": [
       "(-1.2367282735115677, 1.8568619182752026)"
      ]
     },
     "execution_count": 8,
     "metadata": {},
     "output_type": "execute_result"
    }
   ],
   "source": [
    "b, db"
   ]
  },
  {
   "cell_type": "code",
   "execution_count": 9,
   "metadata": {},
   "outputs": [],
   "source": [
    "l = (V - b) / m"
   ]
  },
  {
   "cell_type": "code",
   "execution_count": 10,
   "metadata": {},
   "outputs": [
    {
     "data": {
      "image/png": "[encoded data removed]",
      "text/plain": [
       "<Figure size 576x324 with 2 Axes>"
      ]
     },
     "metadata": {
      "needs_background": "light"
     },
     "output_type": "display_data"
    }
   ],
   "source": [
    "y = m*length + b\n",
    "\n",
    "fig, ax = plt.subplots(figsize = (8, 4.5))\n",
    "axins = zoomed_inset_axes(ax, 11, loc = 2) # zoom-factor: 2.5, location: upper-left\n",
    "\n",
    "for axis in (ax, axins):\n",
    "    axis.errorbar(length, volume, yerr = v_std, fmt = 'o', capthick = 1, ms = 4, alpha = 0.6, capsize = 4, label = 'Calibración')\n",
    "    c = axis.plot(length, y, '--')[0].get_color()\n",
    "    axis.plot(l, V, '*', label = 'Obtenido')\n",
    "\n",
    "ax.text(32, 90, r'$f(x) = (3.05 \\pm 0.06)x - (1 \\pm 2)$', color = c)\n",
    "\n",
    "axins.set_xlim(32.9, 33.3) # apply the x-limits\n",
    "axins.set_ylim(99, 100.5) # apply the y-limits\n",
    "\n",
    "mark_inset(ax, axins, loc1 = 4, loc2 = 1, fc = \"none\", ec = \"0.5\")\n",
    "\n",
    "plt.yticks(visible=False)\n",
    "plt.xticks(visible=False)\n",
    "\n",
    "ax.set_xlabel('Longitud (mm)')\n",
    "ax.set_ylabel('Volumen (uL)')\n",
    "\n",
    "ax.legend(loc = 4)\n",
    "\n",
    "plt.savefig('syringe_cal.png', dpi = 300)\n",
    "plt.show()"
   ]
  }
 ],
 "metadata": {
  "kernelspec": {
   "display_name": "Python 3",
   "language": "python",
   "name": "python3"
  },
  "language_info": {
   "codemirror_mode": {
    "name": "ipython",
    "version": 3
   },
   "file_extension": ".py",
   "mimetype": "text/x-python",
   "name": "python",
   "nbconvert_exporter": "python",
   "pygments_lexer": "ipython3",
   "version": "3.6.7"
  }
 },
 "nbformat": 4,
 "nbformat_minor": 2
}
