{
 "cells": [
  {
   "cell_type": "code",
   "execution_count": 14,
   "metadata": {},
   "outputs": [
    {
     "name": "stdout",
     "output_type": "stream",
     "text": [
      "Using matplotlib backend: TkAgg\n"
     ]
    }
   ],
   "source": [
    "import numpy as np\n",
    "import matplotlib.pyplot as plt\n",
    "from scipy.signal import medfilt\n",
    "\n",
    "%matplotlib\n",
    "\n",
    "COLORS = plt.rcParams['axes.prop_cycle'].by_key()['color']"
   ]
  },
  {
   "cell_type": "code",
   "execution_count": 6,
   "metadata": {},
   "outputs": [],
   "source": [
    "def filterTempSignal(temperature, kernel = 101):\n",
    "    return medfilt(temperature, kernel_size = kernel)\n",
    "\n",
    "def saveFig(fig, name, dpi = 300):\n",
    "    fig.savefig(name, dpi = dpi)\n",
    "    \n",
    "def readCalibrationData(file_name):\n",
    "    cal = np.genfromtxt(file_name, usecols = range(2), skip_header = 5, delimiter = \"\\t\")\n",
    "    with open(file_name) as file:\n",
    "        file.readline()\n",
    "        line = file.readline().split(\" \")[3]\n",
    "    return line, cal\n",
    "\n",
    "def getCalibrationData(file_name, temperature_start_time):\n",
    "    return uniformTime(temperature_start_time, *readCalibrationData(file_name))\n",
    "\n",
    "def addSecondsToCalibration(time, calibration):\n",
    "    calibration = calibration.copy()\n",
    "    calibration[:, 0] = calibration[:, 0] + time\n",
    "    return calibration\n",
    "\n",
    "def uniformTime(t_start_time, start_time, calibration):\n",
    "    ts_h, ts_m = t_start_time.split(\":\")\n",
    "    s_h, s_m = start_time.split(\":\")\n",
    "    ts = int(ts_h) * 60 + int(ts_m)\n",
    "    s = int(s_h) * 60 + int(s_m)\n",
    "    return addSecondsToCalibration((s - ts) * 60, calibration)\n",
    "\n",
    "def plotTemperatureAndPower(temperature_time, temperature, calibrations):\n",
    "    fig, ax1 = plt.subplots(1, figsize=(8, 4.5))\n",
    "\n",
    "    ax2 = ax1.twinx()\n",
    "\n",
    "    ax1.plot(temperature_time, temperature, c = COLORS[0])\n",
    "    ax1.set_ylabel('Temperature ($^\\circ$C)', color = COLORS[0])\n",
    "    ax1.tick_params('y', colors = COLORS[0])\n",
    "    \n",
    "    t = type(calibrations)\n",
    "    if (t is list) or (t is tuple):\n",
    "        for i in range(len(calibrations)):\n",
    "            ax2.plot(calibrations[i][:, 0] / 3600, calibrations[i][:, 1], c = COLORS[1])\n",
    "    else:\n",
    "        ax2.plot(calibrations[:, 0] / 3600, calibrations[:, 2], c = COLORS[1])\n",
    "\n",
    "    ax2.set_ylabel('Power ($\\mu$W)', color = COLORS[1])\n",
    "    ax2.tick_params('y', colors = COLORS[1])\n",
    "\n",
    "    ax1.set_xlabel('Time (hours)')\n",
    "\n",
    "    plt.show()\n",
    "    \n",
    "    return fig\n",
    "\n",
    "def getTemperatures(file_name):\n",
    "    T = np.genfromtxt(file_name, usecols = range(6), skip_header = 1, delimiter = ',')\n",
    "    t = T[:, 0] / 3600\n",
    "    T_bath = filterTempSignal(T[:, 1])\n",
    "    T_ebath = filterTempSignal(T[:, 3])\n",
    "    T_ambient = filterTempSignal(T[:, 5])\n",
    "    return t, T_bath, T_ebath, T_ambient"
   ]
  },
  {
   "cell_type": "code",
   "execution_count": 17,
   "metadata": {},
   "outputs": [],
   "source": [
    "t, T_bath, T_ebath, T_ambient = getTemperatures(\"01-02/Temperatures00-01.csv\")"
   ]
  },
  {
   "cell_type": "code",
   "execution_count": 18,
   "metadata": {},
   "outputs": [],
   "source": [
    "cal00 = getCalibrationData(\"01-02/JBCAL00.ASC\", \"11:20\")\n",
    "cal01 = getCalibrationData(\"01-02/JBCAL01.ASC\", \"11:20\")"
   ]
  },
  {
   "cell_type": "code",
   "execution_count": 19,
   "metadata": {},
   "outputs": [],
   "source": [
    "fig = plotTemperatureAndPower(t, T_bath, (cal00, cal01))\n",
    "saveFig(fig, \"01-02/Cal00-01.png\")"
   ]
  },
  {
   "cell_type": "code",
   "execution_count": 10,
   "metadata": {},
   "outputs": [],
   "source": [
    "t, T_bath, T_ebath, T_ambient = getTemperatures(\"02-03/Temperatures-02-04.csv\")"
   ]
  },
  {
   "cell_type": "code",
   "execution_count": 11,
   "metadata": {},
   "outputs": [
    {
     "data": {
      "text/plain": [
       "[<matplotlib.lines.Line2D at 0x7f73b97b64e0>]"
      ]
     },
     "execution_count": 11,
     "metadata": {},
     "output_type": "execute_result"
    },
    {
     "data": {
      "image/png": "[encoded data removed]",
      "text/plain": [
       "<Figure size 432x288 with 1 Axes>"
      ]
     },
     "metadata": {
      "needs_background": "light"
     },
     "output_type": "display_data"
    }
   ],
   "source": [
    "plt.plot(t, T_bath, label = \"Baño\")\n",
    "plt.plot(t, T_ebath, label = \"Externo\")\n",
    "plt.plot(t, T_ambient, label = \"Ambiente\")"
   ]
  },
  {
   "cell_type": "code",
   "execution_count": 12,
   "metadata": {},
   "outputs": [],
   "source": [
    "cal02 = getCalibrationData(\"02-03/JBSCAL02.ASC\", \"11:20\")\n",
    "cal03 = getCalibrationData(\"02-03/JBSCAL03.ASC\", \"11:20\")\n",
    "cal04 = getCalibrationData(\"02-03/JBSCAL04.ASC\", \"11:20\")\n",
    "\n",
    "cal04[:, 0] = cal04[:, 0] + 24 * 60 * 60"
   ]
  },
  {
   "cell_type": "code",
   "execution_count": 15,
   "metadata": {},
   "outputs": [],
   "source": [
    "fig = plotTemperatureAndPower(t, T_bath, (cal02, cal03, cal04))\n",
    "saveFig(fig, \"02-03/Calibrations.png\")"
   ]
  },
  {
   "cell_type": "code",
   "execution_count": null,
   "metadata": {},
   "outputs": [],
   "source": []
  }
 ],
 "metadata": {
  "kernelspec": {
   "display_name": "Python 3",
   "language": "python",
   "name": "python3"
  },
  "language_info": {
   "codemirror_mode": {
    "name": "ipython",
    "version": 3
   },
   "file_extension": ".py",
   "mimetype": "text/x-python",
   "name": "python",
   "nbconvert_exporter": "python",
   "pygments_lexer": "ipython3",
   "version": "3.6.6"
  }
 },
 "nbformat": 4,
 "nbformat_minor": 2
}
