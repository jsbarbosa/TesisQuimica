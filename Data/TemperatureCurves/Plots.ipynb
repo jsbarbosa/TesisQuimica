{
 "cells": [
  {
   "cell_type": "code",
   "execution_count": 12,
   "metadata": {
    "scrolled": true
   },
   "outputs": [
    {
     "name": "stdout",
     "output_type": "stream",
     "text": [
      "Using matplotlib backend: TkAgg\n"
     ]
    }
   ],
   "source": [
    "import numpy as np\n",
    "import pandas as pd\n",
    "import matplotlib.pyplot as plt\n",
    "\n",
    "from scipy.optimize import curve_fit\n",
    "\n",
    "%matplotlib"
   ]
  },
  {
   "cell_type": "code",
   "execution_count": 2,
   "metadata": {},
   "outputs": [],
   "source": [
    "def temperature_func(resistance, a, b, c, d):\n",
    "    typ = str(type(resistance))\n",
    "    if \"sympy\" in typ:\n",
    "        exp = spy.exp\n",
    "    else:\n",
    "        exp = np.exp\n",
    "    return a * exp(-b * resistance) + c * exp(-d * resistance)\n",
    "\n",
    "def temperature_eq(x, a, b, c, d):\n",
    "    return r\"%s e^{(-%s %s)} + %s e^{(-%s %s)}\"%(a, b, x, c, d, x)"
   ]
  },
  {
   "cell_type": "code",
   "execution_count": 3,
   "metadata": {},
   "outputs": [],
   "source": [
    "def getStrUncertainties(parameters, uncertainties):\n",
    "    n = len(parameters)\n",
    "    \n",
    "    return [strUncertainty(*arg) for arg in zip(parameters, uncertainties)]\n",
    "\n",
    "def getUncertainties(pcov):\n",
    "    n = pcov.shape[0]\n",
    "    return [pcov[i, i]**0.5 for i in range(n)]\n",
    "\n",
    "def strUncertainty(value, uncertainty):\n",
    "    v = abs(value)\n",
    "    u = abs(uncertainty)\n",
    "    if v > u:\n",
    "        u, u_exp = (\"%.0e\" % u).split('e')\n",
    "        u = int(u)\n",
    "        u_exp = int(u_exp)\n",
    "        value = round(value * 10 **(- u_exp), 0)\n",
    "        \n",
    "        st = r\"(%d \\pm %d)\"%(value, u)\n",
    "        exp = u_exp\n",
    "    else:\n",
    "        v, v_exp = (\"%.0e\" % v).split('e')\n",
    "        v = int(v)\n",
    "        v_exp = int(v_exp)\n",
    "        u = round(u * 10 **(- v_exp), 0)\n",
    "        st = r\"(%d \\m %d)\"%(value, u)\n",
    "        exp = v_exp\n",
    "        \n",
    "    if exp == 0:\n",
    "        return st\n",
    "    else:\n",
    "        return r\"%s\\times10^{%d}\"%(st, exp)\n",
    "    \n",
    "def makeStrFunction(x_var, y_var, popt, pcov, equation):\n",
    "    unc = getUncertainties(pcov)\n",
    "    un = getStrUncertainties(popt, unc)\n",
    "    eq = equation(x_var, *un)\n",
    "    return \"$%s(%s) = %s$\"%(y_var, x_var, eq)"
   ]
  },
  {
   "cell_type": "code",
   "execution_count": 4,
   "metadata": {},
   "outputs": [
    {
     "data": {
      "text/plain": [
       "Index(['Bath temp (C)', 'Decade set (ohm/10)', 'Circ temp (C)'], dtype='object')"
      ]
     },
     "execution_count": 4,
     "metadata": {},
     "output_type": "execute_result"
    }
   ],
   "source": [
    "low_temp = pd.read_csv(\"Low_temp.csv\")\n",
    "low_temp.keys()"
   ]
  },
  {
   "cell_type": "code",
   "execution_count": 5,
   "metadata": {},
   "outputs": [],
   "source": [
    "x_key = \"Decade set (ohm/10)\"\n",
    "y_key = \"Bath temp (C)\"\n",
    "circ_key = \"Circ temp (C)\""
   ]
  },
  {
   "cell_type": "code",
   "execution_count": 6,
   "metadata": {},
   "outputs": [
    {
     "name": "stderr",
     "output_type": "stream",
     "text": [
      "/home/juan/.local/lib/python3.6/site-packages/ipykernel_launcher.py:7: RuntimeWarning: overflow encountered in exp\n",
      "  import sys\n"
     ]
    }
   ],
   "source": [
    "x = low_temp[x_key] * 10 / 1000\n",
    "y = low_temp[y_key]\n",
    "y_circ = low_temp[circ_key]\n",
    "\n",
    "popt, pcov = curve_fit(temperature_func, x, y)\n",
    "\n",
    "y_fit = temperature_func(x, *popt)"
   ]
  },
  {
   "cell_type": "code",
   "execution_count": 13,
   "metadata": {},
   "outputs": [
    {
     "name": "stdout",
     "output_type": "stream",
     "text": [
      "20.27242751714297\n"
     ]
    }
   ],
   "source": [
    "fig, ax = plt.subplots(figsize = (8, 4.5))\n",
    "\n",
    "c = ax.plot(x, y, \"o\", alpha = 0.5, label = \"Datos de calibración 1994\")[0].get_color()\n",
    "ax.plot(x, y_fit, \"--\", c = c, label = \"Regresión\")\n",
    "ax.plot(x, y_circ, label = \"Temperatura de circulación\")\n",
    "\n",
    "ax.set_xlabel(r\"Resistencia (k$\\Omega$)\")\n",
    "ax.set_ylabel(r\"Temperatura del baño ($^\\circ$C)\")\n",
    "\n",
    "ax.text(12, 10, makeStrFunction(\"R\", \"T\", popt, pcov, temperature_eq), color = c)#, fontsize = 15)\n",
    "\n",
    "ax.plot([33.21, 29.99], [25.33, 25.88  + 1], \"o\")\n",
    "\n",
    "y_ = temperature_func(40, *popt)\n",
    "print(y_)\n",
    "\n",
    "ax.legend()\n",
    "plt.show()"
   ]
  },
  {
   "cell_type": "code",
   "execution_count": 8,
   "metadata": {},
   "outputs": [
    {
     "data": {
      "image/png": "[encoded data removed]",
      "text/plain": [
       "<Figure size 432x288 with 1 Axes>"
      ]
     },
     "metadata": {
      "needs_background": "light"
     },
     "output_type": "display_data"
    }
   ],
   "source": [
    "plt.plot(y, y - y_circ)\n",
    "plt.xlabel(\"Temperatura ($^\\circ$C)\")\n",
    "plt.ylabel(\"Baño - Circulación ($^\\circ$C)\")\n",
    "plt.show()"
   ]
  },
  {
   "cell_type": "code",
   "execution_count": 25,
   "metadata": {},
   "outputs": [
    {
     "data": {
      "text/plain": [
       "33.6816923076923"
      ]
     },
     "execution_count": 25,
     "metadata": {},
     "output_type": "execute_result"
    }
   ],
   "source": [
    "i = 15\n",
    "m1 = (y[i] -  y[i-1]) / (x[i] - x[i-1])\n",
    "m2 = (y[i+1] -  y[i]) / (x[i+1] - x[i])\n",
    "m = 0.5 * (m1 + m2)\n",
    "m = m\n",
    "\n",
    "(25 - 25.33 + m * 33.21) / m"
   ]
  },
  {
   "cell_type": "code",
   "execution_count": null,
   "metadata": {},
   "outputs": [],
   "source": [
    "33.69, 33.67, "
   ]
  }
 ],
 "metadata": {
  "kernelspec": {
   "display_name": "Python 3",
   "language": "python",
   "name": "python3"
  },
  "language_info": {
   "codemirror_mode": {
    "name": "ipython",
    "version": 3
   },
   "file_extension": ".py",
   "mimetype": "text/x-python",
   "name": "python",
   "nbconvert_exporter": "python",
   "pygments_lexer": "ipython3",
   "version": "3.6.6"
  }
 },
 "nbformat": 4,
 "nbformat_minor": 2
}
